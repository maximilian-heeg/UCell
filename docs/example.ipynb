{
    "cells": [
        {
            "cell_type": "markdown",
            "metadata": {},
            "source": [
                "# Example usage\n",
                "\n",
                "To use `ucell` in a project:"
            ]
        },
        {
            "cell_type": "code",
            "execution_count": null,
            "metadata": {},
            "outputs": [],
            "source": [
                "import ucell\n",
                "import scanpy as sc\n",
                "import pandas as pd\n",
                "import warnings\n",
                "warnings.filterwarnings('ignore')\n",
                "print(ucell.__version__)"
            ]
        },
        {
            "cell_type": "markdown",
            "metadata": {},
            "source": [
                "Load the PBMC3K dataset."
            ]
        },
        {
            "cell_type": "code",
            "execution_count": null,
            "metadata": {},
            "outputs": [],
            "source": [
                "adata = sc.datasets.pbmc3k_processed()\n",
                "sc.pl.umap(adata=adata, color='louvain')"
            ]
        },
        {
            "cell_type": "markdown",
            "metadata": {},
            "source": [
                "## UCell\n",
                "\n",
                "Define gene signatures as a dictionary of gene signatures where keys are signature names\n",
                "and values are lists of gene names. Genes can have a direction as indicated by the trailing minus or plus sign.\n",
                "Genes that don't exist in the AnnData object, will be filtered out.\n",
                "\n",
                "`add_scores` add the gene scores directly to `adata.obs`, whereas `calc_scores` returns a `pd.DataFrame` with the scores for each observation."
            ]
        },
        {
            "cell_type": "code",
            "execution_count": null,
            "metadata": {},
            "outputs": [],
            "source": [
                "# set the warning level do default again, to see which genes are removed.\n",
                "warnings.filterwarnings('default')\n",
                "\n",
                "signatures = {\n",
                "    \"T cell\": ['CD3E', 'CD4', 'CD8A', 'CD19-'],\n",
                "    \"CD4 cell\": ['CD3E', 'CD4', 'CD8A-', 'CD19-', 'IL7R'],\n",
                "    \"CD8 cell\": ['CD3E', 'CD4-', 'CD8A+', 'CD19-', 'IL7R-', 'GZMB', 'NCAM1-', 'FCGR3A-'],\n",
                "    \"B cells\": ['CD19', 'CD3E-', 'FAKE GENE', 'CD37', 'CD8A-', 'CD4-', 'ITGAX-']\n",
                "}\n",
                "\n",
                "ucell.add_scores(adata, signatures=signatures, maxRank=1000)"
            ]
        },
        {
            "cell_type": "code",
            "execution_count": null,
            "metadata": {},
            "outputs": [],
            "source": [
                "sc.pl.umap(\n",
                "    adata,\n",
                "    color=[\"UCell_\" + k for k in signatures.keys()],\n",
                "    ncols=2\n",
                ")"
            ]
        },
        {
            "cell_type": "code",
            "execution_count": null,
            "metadata": {},
            "outputs": [],
            "source": [
                "warnings.filterwarnings(\"ignore\", category=FutureWarning)\n",
                "sc.pl.violin(\n",
                "    adata=adata,\n",
                "    keys=[\"UCell_\" + k for k in signatures.keys()],\n",
                "    groupby='louvain',\n",
                "    rotation=90\n",
                ")"
            ]
        }
    ],
    "metadata": {
        "kernelspec": {
            "display_name": "Python 3",
            "language": "python",
            "name": "python3"
        },
        "language_info": {
            "codemirror_mode": {
                "name": "ipython",
                "version": 3
            },
            "file_extension": ".py",
            "mimetype": "text/x-python",
            "name": "python",
            "nbconvert_exporter": "python",
            "pygments_lexer": "ipython3",
            "version": "3.11.5"
        }
    },
    "nbformat": 4,
    "nbformat_minor": 4
}
